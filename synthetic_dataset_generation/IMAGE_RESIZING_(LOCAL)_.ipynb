{
  "nbformat": 4,
  "nbformat_minor": 0,
  "metadata": {
    "colab": {
      "provenance": [],
      "authorship_tag": "ABX9TyPR1KUjjyMkQXeIICngNjkG",
      "include_colab_link": true
    },
    "kernelspec": {
      "name": "python3",
      "display_name": "Python 3"
    },
    "language_info": {
      "name": "python"
    }
  },
  "cells": [
    {
      "cell_type": "markdown",
      "metadata": {
        "id": "view-in-github",
        "colab_type": "text"
      },
      "source": [
        "<a href=\"https://colab.research.google.com/github/JozefV99/Master-Thesis/blob/main/synthetic_dataset_generation/IMAGE_RESIZING_(LOCAL)_.ipynb\" target=\"_parent\"><img src=\"https://colab.research.google.com/assets/colab-badge.svg\" alt=\"Open In Colab\"/></a>"
      ]
    },
    {
      "cell_type": "markdown",
      "source": [
        "# **LOCAL IMAGE RESIZING:**"
      ],
      "metadata": {
        "id": "UySLEQn2-qGe"
      }
    },
    {
      "cell_type": "markdown",
      "source": [
        "This code was used to resize the pictures generated in Blender from 1920x1080p to 640x640p. It is meant to be used locally to enable fast and easy large folder manipulation. I used it within Visual Studio Code."
      ],
      "metadata": {
        "id": "051VBViw5tXa"
      }
    },
    {
      "cell_type": "markdown",
      "source": [
        "## **LOW COMPLEXITY:**"
      ],
      "metadata": {
        "id": "INUkp7wi-uHW"
      }
    },
    {
      "cell_type": "code",
      "execution_count": null,
      "metadata": {
        "id": "ikA-Sdin-oun"
      },
      "outputs": [],
      "source": [
        "import os\n",
        "from PIL import Image\n",
        "\n",
        "def resize_images(folder_pairs, target_size=(640, 640)):\n",
        "    \"\"\"\n",
        "    Resizes all images in the source directories specified in folder_pairs and saves them to their respective target directories.\n",
        "\n",
        "    Args:\n",
        "    folder_pairs (list of tuples): List containing tuples of source and target directories.\n",
        "    target_size (tuple): Desired dimensions for the output images.\n",
        "    \"\"\"\n",
        "    for source_folder, target_folder in folder_pairs:\n",
        "        # Ensure the target directory exists\n",
        "        os.makedirs(target_folder, exist_ok=True)\n",
        "\n",
        "        # Process each file in the source directory\n",
        "        for filename in os.listdir(source_folder):\n",
        "            file_path = os.path.join(source_folder, filename)\n",
        "            if file_path.lower().endswith(('.png', '.jpg', '.jpeg')):\n",
        "                try:\n",
        "                    with Image.open(file_path) as img:\n",
        "                        # Resize the image\n",
        "                        img_resized = img.resize(target_size, Image.Resampling.LANCZOS)\n",
        "                        save_path = os.path.join(target_folder, filename)\n",
        "                        img_resized.save(save_path)\n",
        "                        print(f\"Saved resized image to {save_path}\")\n",
        "                except Exception as e:\n",
        "                    print(f\"Error processing {filename}: {e}\")\n",
        "\n",
        "# Specify folder pairs (original and final)\n",
        "folder_pairs = [\n",
        "    (r\"D:\\LOW COMPLEXITY\\D1098590\", r\"D:\\LOW COMPLEXITY\\RESIZED TO 640\\D1098590\"),\n",
        "    (r\"D:\\LOW COMPLEXITY\\D1100844\", r\"D:\\LOW COMPLEXITY\\RESIZED TO 640\\D1100844\"),\n",
        "    (r\"D:\\LOW COMPLEXITY\\D1612695\", r\"D:\\LOW COMPLEXITY\\RESIZED TO 640\\D1612695\"),\n",
        "    (r\"D:\\LOW COMPLEXITY\\D1899542\", r\"D:\\LOW COMPLEXITY\\RESIZED TO 640\\D1899542\"),\n",
        "    (r\"D:\\LOW COMPLEXITY\\D4332268\", r\"D:\\LOW COMPLEXITY\\RESIZED TO 640\\D4332268\")\n",
        "]\n",
        "\n",
        "# Resize the images for each folder pair\n",
        "resize_images(folder_pairs)"
      ]
    },
    {
      "cell_type": "markdown",
      "source": [
        "## **MEDIUM COMPLEXITY:**"
      ],
      "metadata": {
        "id": "jOgZiMW9-w-Q"
      }
    },
    {
      "cell_type": "code",
      "source": [
        "import os\n",
        "from PIL import Image\n",
        "\n",
        "def resize_images(folder_pairs, target_size=(640, 640)):\n",
        "    \"\"\"\n",
        "    Resizes all images in the source directories specified in folder_pairs and saves them to their respective target directories.\n",
        "\n",
        "    Args:\n",
        "    folder_pairs (list of tuples): List containing tuples of source and target directories.\n",
        "    target_size (tuple): Desired dimensions for the output images.\n",
        "    \"\"\"\n",
        "    for source_folder, target_folder in folder_pairs:\n",
        "        # Ensure the target directory exists\n",
        "        os.makedirs(target_folder, exist_ok=True)\n",
        "\n",
        "        # Process each file in the source directory\n",
        "        for filename in os.listdir(source_folder):\n",
        "            file_path = os.path.join(source_folder, filename)\n",
        "            if file_path.lower().endswith(('.png', '.jpg', '.jpeg')):\n",
        "                try:\n",
        "                    with Image.open(file_path) as img:\n",
        "                        # Resize the image\n",
        "                        img_resized = img.resize(target_size, Image.Resampling.LANCZOS)\n",
        "                        save_path = os.path.join(target_folder, filename)\n",
        "                        img_resized.save(save_path)\n",
        "                        print(f\"Saved resized image to {save_path}\")\n",
        "                except Exception as e:\n",
        "                    print(f\"Error processing {filename}: {e}\")\n",
        "\n",
        "# Specify folder pairs (original and final)\n",
        "folder_pairs = [\n",
        "    (r\"D:\\MEDIUM COMPLEXITY\\D1098590\", r\"D:\\MEDIUM COMPLEXITY\\RESIZED TO 640\\D1098590\"),\n",
        "    (r\"D:\\MEDIUM COMPLEXITY\\D1100844\", r\"D:\\MEDIUM COMPLEXITY\\RESIZED TO 640\\D1100844\"),\n",
        "    (r\"D:\\MEDIUM COMPLEXITY\\D1612695\", r\"D:\\MEDIUM COMPLEXITY\\RESIZED TO 640\\D1612695\"),\n",
        "    (r\"D:\\MEDIUM COMPLEXITY\\D1899542\", r\"D:\\MEDIUM COMPLEXITY\\RESIZED TO 640\\D1899542\"),\n",
        "    (r\"D:\\MEDIUM COMPLEXITY\\D4332268\", r\"D:\\MEDIUM COMPLEXITY\\RESIZED TO 640\\D4332268\")\n",
        "]\n",
        "\n",
        "# Resize the images for each folder pair\n",
        "resize_images(folder_pairs)"
      ],
      "metadata": {
        "id": "m-ks0ypG-xPp"
      },
      "execution_count": null,
      "outputs": []
    },
    {
      "cell_type": "markdown",
      "source": [
        "## **HIGH COMPLEXITY:**"
      ],
      "metadata": {
        "id": "kuycBuXv-0he"
      }
    },
    {
      "cell_type": "code",
      "source": [
        "import os\n",
        "from PIL import Image\n",
        "\n",
        "def resize_images(folder_pairs, target_size=(640, 640)):\n",
        "    \"\"\"\n",
        "    Resizes all images in the source directories specified in folder_pairs and saves them to their respective target directories.\n",
        "\n",
        "    Args:\n",
        "    folder_pairs (list of tuples): List containing tuples of source and target directories.\n",
        "    target_size (tuple): Desired dimensions for the output images.\n",
        "    \"\"\"\n",
        "    for source_folder, target_folder in folder_pairs:\n",
        "        # Ensure the target directory exists\n",
        "        os.makedirs(target_folder, exist_ok=True)\n",
        "\n",
        "        # Process each file in the source directory\n",
        "        for filename in os.listdir(source_folder):\n",
        "            file_path = os.path.join(source_folder, filename)\n",
        "            if file_path.lower().endswith(('.png', '.jpg', '.jpeg')):\n",
        "                try:\n",
        "                    with Image.open(file_path) as img:\n",
        "                        # Resize the image\n",
        "                        img_resized = img.resize(target_size, Image.Resampling.LANCZOS)\n",
        "                        save_path = os.path.join(target_folder, filename)\n",
        "                        img_resized.save(save_path)\n",
        "                        print(f\"Saved resized image to {save_path}\")\n",
        "                except Exception as e:\n",
        "                    print(f\"Error processing {filename}: {e}\")\n",
        "\n",
        "# Specify folder pairs (original and final)\n",
        "folder_pairs = [\n",
        "    (r\"D:\\HIGH COMPLEXITY\\D1098590\", r\"D:\\HIGH COMPLEXITY\\RESIZED TO 640\\D1098590\"),\n",
        "    (r\"D:\\HIGH COMPLEXITY\\D1100844\", r\"D:\\HIGH COMPLEXITY\\RESIZED TO 640\\D1100844\"),\n",
        "    (r\"D:\\HIGH COMPLEXITY\\D1612695\", r\"D:\\HIGH COMPLEXITY\\RESIZED TO 640\\D1612695\"),\n",
        "    (r\"D:\\HIGH COMPLEXITY\\D1899542\", r\"D:\\HIGH COMPLEXITY\\RESIZED TO 640\\D1899542\"),\n",
        "    (r\"D:\\HIGH COMPLEXITY\\D4332268\", r\"D:\\HIGH COMPLEXITY\\RESIZED TO 640\\D4332268\")\n",
        "]\n",
        "\n",
        "# Resize the images for each folder pair\n",
        "resize_images(folder_pairs)"
      ],
      "metadata": {
        "id": "g4IhJ_B2-4QR"
      },
      "execution_count": null,
      "outputs": []
    }
  ]
}