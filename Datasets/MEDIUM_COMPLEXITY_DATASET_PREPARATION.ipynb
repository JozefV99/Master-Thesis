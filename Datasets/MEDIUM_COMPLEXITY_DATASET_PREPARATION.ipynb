{
  "nbformat": 4,
  "nbformat_minor": 0,
  "metadata": {
    "colab": {
      "provenance": [],
      "gpuType": "T4",
      "authorship_tag": "ABX9TyPS/d9/nFN+zZnDs1VI6sEb",
      "include_colab_link": true
    },
    "kernelspec": {
      "name": "python3",
      "display_name": "Python 3"
    },
    "language_info": {
      "name": "python"
    },
    "accelerator": "GPU"
  },
  "cells": [
    {
      "cell_type": "markdown",
      "metadata": {
        "id": "view-in-github",
        "colab_type": "text"
      },
      "source": [
        "<a href=\"https://colab.research.google.com/github/JozefV99/Master-Thesis/blob/main/Datasets/MEDIUM_COMPLEXITY_DATASET_PREPARATION.ipynb\" target=\"_parent\"><img src=\"https://colab.research.google.com/assets/colab-badge.svg\" alt=\"Open In Colab\"/></a>"
      ]
    },
    {
      "cell_type": "markdown",
      "source": [
        "# **IMPORT IMAGES FROM GOOGLE DRIVE:**"
      ],
      "metadata": {
        "id": "qS0vpqcuyazm"
      }
    },
    {
      "cell_type": "code",
      "execution_count": 1,
      "metadata": {
        "colab": {
          "base_uri": "https://localhost:8080/"
        },
        "id": "K4fyfJ79wmSH",
        "outputId": "b1b7ee7c-d017-4e6d-d925-5b15629c10af"
      },
      "outputs": [
        {
          "output_type": "stream",
          "name": "stdout",
          "text": [
            "Mounted at /content/gdrive\n",
            "Extracted D1098590.zip into /content/Images/temp\n",
            "Cleaned up /content/Images/temp\n",
            "Extracted D1100844.zip into /content/Images/temp\n",
            "Cleaned up /content/Images/temp\n",
            "Extracted D1612695.zip into /content/Images/temp\n",
            "Cleaned up /content/Images/temp\n",
            "Extracted D1899542.zip into /content/Images/temp\n",
            "Cleaned up /content/Images/temp\n",
            "Extracted D4332268.zip into /content/Images/temp\n",
            "Cleaned up /content/Images/temp\n",
            "All images have been moved to /content/Images/all_images\n"
          ]
        }
      ],
      "source": [
        "# IMPORT:\n",
        "\n",
        "import os\n",
        "import shutil\n",
        "import zipfile\n",
        "import random\n",
        "from collections import defaultdict\n",
        "from google.colab import drive\n",
        "from PIL import Image\n",
        "\n",
        "# Mount Google Drive\n",
        "drive.mount('/content/gdrive')\n",
        "\n",
        "def extract_and_organize(source_folder, target_folder):\n",
        "    if not os.path.exists(target_folder):\n",
        "        os.makedirs(target_folder)\n",
        "\n",
        "    for zip_filename in os.listdir(source_folder):\n",
        "        if zip_filename.endswith('.zip'):\n",
        "            zip_path = os.path.join(source_folder, zip_filename)\n",
        "            with zipfile.ZipFile(zip_path, 'r') as zip_file:\n",
        "                # Extract the zip file into a temporary directory\n",
        "                temp_dir = os.path.join(target_folder, \"temp\")\n",
        "                os.makedirs(temp_dir, exist_ok=True)\n",
        "                zip_file.extractall(temp_dir)\n",
        "                print(f\"Extracted {zip_filename} into {temp_dir}\")\n",
        "\n",
        "                # Check the actual directory structure within the temp directory\n",
        "                intermediate_dir = temp_dir\n",
        "                possible_dirs = [intermediate_dir] + [os.path.join(intermediate_dir, d) for d in os.listdir(intermediate_dir) if os.path.isdir(os.path.join(intermediate_dir, d))]\n",
        "                for dir_path in possible_dirs:\n",
        "                    if os.path.exists(dir_path):\n",
        "                        for file_name in os.listdir(dir_path):\n",
        "                            full_file_path = os.path.join(dir_path, file_name)\n",
        "                            if os.path.isfile(full_file_path):\n",
        "                                # Resize the image\n",
        "                                label = file_name[:8]  # Extract label (first 8 characters)\n",
        "                                label_dir = os.path.join(target_folder, label)\n",
        "                                os.makedirs(label_dir, exist_ok=True)\n",
        "                                shutil.move(full_file_path, os.path.join(label_dir, file_name))\n",
        "                # Clean up the temporary directory\n",
        "                shutil.rmtree(temp_dir)\n",
        "                print(f\"Cleaned up {temp_dir}\")\n",
        "\n",
        "# Specify the source and target directories\n",
        "source = \"/content/gdrive/My Drive/Colab Notebooks/Data/MEDIUM COMPLEXITY\"\n",
        "base_target = '/content/Images'\n",
        "target_folder = '/content/Images/all_images'\n",
        "\n",
        "# Extract and organize files from ZIP archives\n",
        "extract_and_organize(source, base_target)\n",
        "\n",
        "# Delete folders\n",
        "# Delete previous directories along with any files\n",
        "folder_paths = [\n",
        "    \"/content/Images/D1098590\",\n",
        "    \"/content/Images/D1100844\",\n",
        "    \"/content/Images/D1612695\",\n",
        "    \"/content/Images/D1899542\",\n",
        "    \"/content/Images/D4332268\"\n",
        "]\n",
        "\n",
        "# Ensure the target directory exists\n",
        "os.makedirs(target_folder, exist_ok=True)\n",
        "\n",
        "# Loop through each folder path\n",
        "for folder in folder_paths:\n",
        "    # List all files in the current directory\n",
        "    files = os.listdir(folder)\n",
        "    for file in files:\n",
        "        # Construct full file path\n",
        "        file_path = os.path.join(folder, file)\n",
        "        # Move only image files to the target folder\n",
        "        if file.lower().endswith(('.png', '.jpg', '.jpeg')):\n",
        "            shutil.move(file_path, os.path.join(target_folder, file))\n",
        "\n",
        "print(\"All images have been moved to\", target_folder)\n",
        "\n",
        "# Print final directory structure for verification\n",
        "for root, dirs, files in os.walk(target_folder, topdown=True):\n",
        "    for dir_name in dirs:\n",
        "        print(f\"Directory: {os.path.join(root, dir_name)}\")\n",
        "        if os.listdir(os.path.join(root, dir_name)):\n",
        "            print(os.listdir(os.path.join(root, dir_name)))\n",
        "\n",
        "# Loop through each folder and delete it\n",
        "for folder in folder_paths:\n",
        "    shutil.rmtree(folder)"
      ]
    },
    {
      "cell_type": "markdown",
      "source": [
        "# **IMPORT ANNOTATIONS FROM GOOGLE DRIVE:**"
      ],
      "metadata": {
        "id": "D07dpu88yrth"
      }
    },
    {
      "cell_type": "code",
      "source": [
        "# IMPORT ANNOTATIONS\n",
        "\n",
        "import os\n",
        "import shutil\n",
        "from google.colab import drive\n",
        "\n",
        "# Mount Google Drive\n",
        "#drive.mount('/content/gdrive')\n",
        "\n",
        "# Define the source directory on Google Drive and the target directory on Colab\n",
        "source_directory = \"/content/gdrive/My Drive/Colab Notebooks/Data/MEDIUM COMPLEXITY/Annotations\" # Change to your Google Drive source folder\n",
        "target_directory = '/content/Images'  # Change to your target folder on Colab\n",
        "\n",
        "# Ensure the target directory exists\n",
        "os.makedirs(target_directory, exist_ok=True)\n",
        "\n",
        "# Copy files from the source directory to the target directory\n",
        "for filename in os.listdir(source_directory):\n",
        "    source_file = os.path.join(source_directory, filename)\n",
        "    target_file = os.path.join(target_directory, filename)\n",
        "    # Copy each file to the target directory\n",
        "    shutil.copy(source_file, target_file)\n",
        "    print(f\"Copied {filename} to {target_directory}\")"
      ],
      "metadata": {
        "colab": {
          "base_uri": "https://localhost:8080/"
        },
        "id": "rpJ893LIwzmK",
        "outputId": "8896a98c-e8f8-4385-d15d-4d883ce8cf7b"
      },
      "execution_count": 2,
      "outputs": [
        {
          "output_type": "stream",
          "name": "stdout",
          "text": [
            "Copied MEDIUM_COMPLEXITY_Annotations.zip to /content/Images\n"
          ]
        }
      ]
    },
    {
      "cell_type": "code",
      "source": [
        "# UNZIP:\n",
        "\n",
        "import zipfile\n",
        "import os\n",
        "\n",
        "# Specify the path to the zip file\n",
        "zip_file_path = '/content/Images/MEDIUM_COMPLEXITY_Annotations.zip'\n",
        "\n",
        "# Specify the target directory to extract the contents\n",
        "target_directory = '/content/Images'\n",
        "\n",
        "# Ensure the target directory exists\n",
        "os.makedirs(target_directory, exist_ok=True)\n",
        "\n",
        "# Open the zip file\n",
        "with zipfile.ZipFile(zip_file_path, 'r') as zip_ref:\n",
        "    # Extract all the contents into the target directory\n",
        "    zip_ref.extractall(target_directory)\n",
        "\n",
        "print(f\"Files have been extracted to {target_directory}\")"
      ],
      "metadata": {
        "colab": {
          "base_uri": "https://localhost:8080/"
        },
        "id": "kN9nt5Gjw2D-",
        "outputId": "acdeb383-0683-4b2d-b2ef-48ef76bec7e6"
      },
      "execution_count": 3,
      "outputs": [
        {
          "output_type": "stream",
          "name": "stdout",
          "text": [
            "Files have been extracted to /content/Images\n"
          ]
        }
      ]
    },
    {
      "cell_type": "markdown",
      "source": [
        "## **MERGE IMAGES AND ANNOTATIONS TOGETHER:**"
      ],
      "metadata": {
        "id": "miv15KpIyxaY"
      }
    },
    {
      "cell_type": "code",
      "source": [
        "import os\n",
        "import shutil\n",
        "\n",
        "def merge_folders(src_folder1, src_folder2, dest_folder):\n",
        "    # Ensure the destination folder exists, if not, create it\n",
        "    os.makedirs(dest_folder, exist_ok=True)\n",
        "\n",
        "    # Function to copy contents from source to destination\n",
        "    def copy_contents(src_folder, dest_folder):\n",
        "        for item in os.listdir(src_folder):\n",
        "            src_path = os.path.join(src_folder, item)\n",
        "            dest_path = os.path.join(dest_folder, item)\n",
        "\n",
        "            if os.path.isdir(src_path):\n",
        "                # If it's a directory, recursively copy its contents\n",
        "                shutil.copytree(src_path, dest_path, dirs_exist_ok=True)\n",
        "            else:\n",
        "                # If it's a file, copy it directly\n",
        "                shutil.copy2(src_path, dest_path)\n",
        "\n",
        "    # Copy contents from both source folders to the destination folder\n",
        "    copy_contents(src_folder1, dest_folder)\n",
        "    print(f\"Copied all files from {src_folder1} to {dest_folder}\")\n",
        "\n",
        "    copy_contents(src_folder2, dest_folder)\n",
        "    print(f\"Copied all files from {src_folder2} to {dest_folder}\")\n",
        "\n",
        "# Example usage\n",
        "src_folder1 = '/content/Images/all_images'\n",
        "src_folder2 = '/content/Images/Annotations'\n",
        "dest_folder = '/content/Images/all_combined'\n",
        "\n",
        "merge_folders(src_folder1, src_folder2, dest_folder)"
      ],
      "metadata": {
        "colab": {
          "base_uri": "https://localhost:8080/"
        },
        "id": "14QSDI6jxH38",
        "outputId": "cd95bb2d-0bae-431b-bd21-2856fa44e5be"
      },
      "execution_count": 4,
      "outputs": [
        {
          "output_type": "stream",
          "name": "stdout",
          "text": [
            "Copied all files from /content/Images/all_images to /content/Images/all_combined\n",
            "Copied all files from /content/Images/Annotations to /content/Images/all_combined\n"
          ]
        }
      ]
    },
    {
      "cell_type": "markdown",
      "source": [
        "### **CHECK WHETHER EACH PICTURE HAS A CORRESPONDING ANNOTATION:**"
      ],
      "metadata": {
        "id": "XFoRMAmUy6Sw"
      }
    },
    {
      "cell_type": "code",
      "source": [
        "# CHECK FOR PAIRS:\n",
        "\n",
        "import os\n",
        "\n",
        "# Define the path to the images and annotations directories\n",
        "images_folder = '/content/Images/all_images'\n",
        "annotations_folder = '/content/Images/Annotations'\n",
        "\n",
        "# Get list of image and annotation filenames\n",
        "image_files = {os.path.splitext(f)[0] for f in os.listdir(images_folder) if f.endswith(('.png', '.jpg', '.jpeg'))}\n",
        "annotation_files = {os.path.splitext(f)[0] for f in os.listdir(annotations_folder) if f.endswith('.txt')}\n",
        "\n",
        "# Check for missing annotation files\n",
        "missing_annotations = image_files - annotation_files\n",
        "if missing_annotations:\n",
        "    print(f\"Missing annotations for {len(missing_annotations)} files:\")\n",
        "    for filename in missing_annotations:\n",
        "        print(f\"{filename}.jpg or .png\")\n",
        "else:\n",
        "    print(\"All images have corresponding annotations.\")\n",
        "\n",
        "# Optionally, check for annotation files without corresponding images\n",
        "extra_annotations = annotation_files - image_files\n",
        "if extra_annotations:\n",
        "    print(f\"Extra annotation files found for {len(extra_annotations)} images that do not exist:\")\n",
        "    for filename in extra_annotations:\n",
        "        print(f\"{filename}.txt\")\n",
        "else:\n",
        "    print(\"No extra annotation files found.\")"
      ],
      "metadata": {
        "colab": {
          "base_uri": "https://localhost:8080/"
        },
        "id": "kVu5nIeAxNJF",
        "outputId": "15896654-6593-4fa8-f4cb-b4f0006e760b"
      },
      "execution_count": 5,
      "outputs": [
        {
          "output_type": "stream",
          "name": "stdout",
          "text": [
            "All images have corresponding annotations.\n",
            "No extra annotation files found.\n"
          ]
        }
      ]
    },
    {
      "cell_type": "markdown",
      "source": [
        "# **CONVERT ANNOTATIONS FROM YOLO FORMAT INTO .xml**"
      ],
      "metadata": {
        "id": "qEO5Za2RzJlU"
      }
    },
    {
      "cell_type": "code",
      "source": [
        "# CONVERT YOLO ANNOTATIONS INTO .xml AND CHANGE CLASSES:\n",
        "\n",
        "import os\n",
        "from PIL import Image\n",
        "from xml.etree.ElementTree import Element, SubElement, ElementTree\n",
        "\n",
        "def yolo_to_voc(yolo_file_path, image_folder, output_folder):\n",
        "    os.makedirs(output_folder, exist_ok=True)\n",
        "\n",
        "    for yolo_file in os.listdir(yolo_file_path):\n",
        "        image_file = yolo_file.replace('.txt', '.png')\n",
        "        image_path = os.path.join(image_folder, image_file)\n",
        "        image = Image.open(image_path)\n",
        "        width, height = image.size\n",
        "\n",
        "        annotation = Element('annotation')\n",
        "        tree = ElementTree(annotation)\n",
        "\n",
        "        filename = SubElement(annotation, 'filename')\n",
        "        filename.text = image_file\n",
        "\n",
        "        size = SubElement(annotation, 'size')\n",
        "        width_elem = SubElement(size, 'width')\n",
        "        width_elem.text = str(width)\n",
        "        height_elem = SubElement(size, 'height')\n",
        "        height_elem.text = str(height)\n",
        "        depth_elem = SubElement(size, 'depth')\n",
        "        depth_elem.text = '3'  # Assuming RGB images\n",
        "\n",
        "        with open(os.path.join(yolo_file_path, yolo_file), 'r') as file:\n",
        "            for line in file.readlines():\n",
        "                parts = line.strip().split()\n",
        "                class_id = int(parts[0])  # Convert class_id to integer directly\n",
        "                center_x, center_y, bbox_width, bbox_height = map(float, parts[1:])  # Convert only the coordinates to float\n",
        "\n",
        "                x_min = (center_x - bbox_width / 2) * width\n",
        "                y_min = (center_y - bbox_height / 2) * height\n",
        "                x_max = (center_x + bbox_width / 2) * width\n",
        "                y_max = (center_y + bbox_height / 2) * height\n",
        "\n",
        "                object_elem = SubElement(annotation, 'object')\n",
        "                name = SubElement(object_elem, 'name')\n",
        "                name.text = str(class_id + 1)  # Increment class_id by 1\n",
        "                bndbox = SubElement(object_elem, 'bndbox')\n",
        "                xmin = SubElement(bndbox, 'xmin')\n",
        "                xmin.text = str(int(x_min))\n",
        "                ymin = SubElement(bndbox, 'ymin')\n",
        "                ymin.text = str(int(y_min))\n",
        "                xmax = SubElement(bndbox, 'xmax')\n",
        "                xmax.text = str(int(x_max))\n",
        "                ymax = SubElement(bndbox, 'ymax')\n",
        "                ymax.text = str(int(y_max))\n",
        "\n",
        "        tree.write(os.path.join(output_folder, yolo_file.replace('.txt', '.xml')))\n",
        "\n",
        "# Example usage\n",
        "yolo_to_voc('/content/Images/Annotations', '/content/Images/all_images', '/content/Images/XML_Annotations')"
      ],
      "metadata": {
        "id": "UHWsiBl5xTlJ"
      },
      "execution_count": 6,
      "outputs": []
    },
    {
      "cell_type": "code",
      "source": [
        "import os\n",
        "import shutil\n",
        "\n",
        "def merge_folders(src_folder1, src_folder2, dest_folder):\n",
        "    # Ensure the destination folder exists, if not, create it\n",
        "    os.makedirs(dest_folder, exist_ok=True)\n",
        "\n",
        "    # Function to copy contents from source to destination\n",
        "    def copy_contents(src_folder, dest_folder):\n",
        "        for item in os.listdir(src_folder):\n",
        "            src_path = os.path.join(src_folder, item)\n",
        "            dest_path = os.path.join(dest_folder, item)\n",
        "\n",
        "            if os.path.isdir(src_path):\n",
        "                # If it's a directory, recursively copy its contents\n",
        "                shutil.copytree(src_path, dest_path, dirs_exist_ok=True)\n",
        "            else:\n",
        "                # If it's a file, copy it directly\n",
        "                shutil.copy2(src_path, dest_path)\n",
        "\n",
        "    # Copy contents from both source folders to the destination folder\n",
        "    copy_contents(src_folder1, dest_folder)\n",
        "    print(f\"Copied all files from {src_folder1} to {dest_folder}\")\n",
        "\n",
        "    copy_contents(src_folder2, dest_folder)\n",
        "    print(f\"Copied all files from {src_folder2} to {dest_folder}\")\n",
        "\n",
        "# Example usage\n",
        "src_folder1 = '/content/Images/all_images'\n",
        "src_folder2 = '/content/Images/XML_Annotations'\n",
        "dest_folder = '/content/Images/all_combined_XML'\n",
        "\n",
        "merge_folders(src_folder1, src_folder2, dest_folder)"
      ],
      "metadata": {
        "colab": {
          "base_uri": "https://localhost:8080/"
        },
        "id": "pGYzDm0NxbDP",
        "outputId": "916edea8-774d-4ab5-c821-c2522858b45d"
      },
      "execution_count": 7,
      "outputs": [
        {
          "output_type": "stream",
          "name": "stdout",
          "text": [
            "Copied all files from /content/Images/all_images to /content/Images/all_combined_XML\n",
            "Copied all files from /content/Images/XML_Annotations to /content/Images/all_combined_XML\n"
          ]
        }
      ]
    },
    {
      "cell_type": "markdown",
      "source": [
        "# **SPLIT INTO TRAINING AND VALIDATION:**"
      ],
      "metadata": {
        "id": "Mt_qdVtPxY8z"
      }
    },
    {
      "cell_type": "markdown",
      "source": [
        "### **SPLIT FOR YOLO:**"
      ],
      "metadata": {
        "id": "iMNO1--u3LAr"
      }
    },
    {
      "cell_type": "code",
      "source": [
        "import os\n",
        "import shutil\n",
        "import numpy as np\n",
        "from sklearn.model_selection import train_test_split\n",
        "from PIL import Image\n",
        "\n",
        "# Paths for the dataset and destination folders\n",
        "dataset_path = '/content/Images/all_combined'  # Update this path\n",
        "train_dir = '/content/Images/training'  # Destination path for training data\n",
        "val_dir = '/content/Images/validation'  # Destination path for validation data\n",
        "\n",
        "os.makedirs(train_dir, exist_ok=True)\n",
        "os.makedirs(val_dir, exist_ok=True)\n",
        "\n",
        "def extract_label(filename):\n",
        "    # Example label extraction, adjust if your labels are structured differently\n",
        "    # Assumes the label is part of the filename before an underscore or other delimiter\n",
        "    return filename.split('_')[0]\n",
        "\n",
        "def normalize_and_save(file_path, save_path):\n",
        "    # Open the image file\n",
        "    img = Image.open(file_path)\n",
        "    img = img.convert('RGB')  # Convert to RGB if not already\n",
        "\n",
        "    # Normalize pixel values to [0, 1]\n",
        "    np_img = np.array(img) / 255.0\n",
        "\n",
        "    # Save the normalized image\n",
        "    norm_img = Image.fromarray((np_img * 255).astype('uint8'))\n",
        "    norm_img.save(save_path)\n",
        "\n",
        "# Collect all image files and filter those with a corresponding annotation file\n",
        "file_paths = [os.path.join(dataset_path, f) for f in os.listdir(dataset_path) if f.endswith('.png')]\n",
        "labels = [extract_label(f) for f in file_paths]\n",
        "\n",
        "# Ensure corresponding .txt files for annotations exist\n",
        "file_paths = [f for f in file_paths if os.path.exists(f\"{f[:-4]}.txt\")]\n",
        "labels = [labels[i] for i in range(len(file_paths)) if os.path.exists(f\"{file_paths[i][:-4]}.txt\")]\n",
        "\n",
        "# Perform Stratified Split:\n",
        "train_files, val_files, train_labels, val_labels = train_test_split(\n",
        "    file_paths, labels, test_size=0.2, stratify=labels, random_state=42)\n",
        "\n",
        "# Copy and Normalize Files to Their Directories:\n",
        "def copy_and_prepare_files(files, target_dir):\n",
        "    for file_path in files:\n",
        "        base_name = os.path.basename(file_path)\n",
        "        image_target_path = os.path.join(target_dir, base_name)\n",
        "        label_target_path = os.path.join(target_dir, base_name.replace('.png', '.txt'))\n",
        "\n",
        "        # Copy and normalize image\n",
        "        normalize_and_save(file_path, image_target_path)\n",
        "\n",
        "        # Copy label\n",
        "        shutil.copy(file_path.replace('.png', '.txt'), label_target_path)\n",
        "\n",
        "# Copy training and validation files\n",
        "copy_and_prepare_files(train_files, train_dir)\n",
        "copy_and_prepare_files(val_files, val_dir)\n",
        "\n",
        "# Output Summary:\n",
        "print(\"Training and validation datasets prepared.\")\n",
        "print(f\"Training images and labels copied to: {train_dir}\")\n",
        "print(f\"Validation images and labels copied to: {val_dir}\")"
      ],
      "metadata": {
        "colab": {
          "base_uri": "https://localhost:8080/"
        },
        "id": "4ZQxcsG83HaL",
        "outputId": "f1049ed1-5181-480a-ff2f-63a2ce1a77a4"
      },
      "execution_count": 8,
      "outputs": [
        {
          "output_type": "stream",
          "name": "stdout",
          "text": [
            "Training and validation datasets prepared.\n",
            "Training images and labels copied to: /content/Images/training\n",
            "Validation images and labels copied to: /content/Images/validation\n"
          ]
        }
      ]
    },
    {
      "cell_type": "markdown",
      "source": [
        "### **SPLIT FOR XML:**"
      ],
      "metadata": {
        "id": "gp5iN1rx3H-F"
      }
    },
    {
      "cell_type": "code",
      "source": [
        "import os\n",
        "import shutil\n",
        "import numpy as np\n",
        "from sklearn.model_selection import train_test_split\n",
        "from PIL import Image\n",
        "\n",
        "# Paths for the dataset and destination folders\n",
        "dataset_path = '/content/Images/all_combined_XML'  # Update this path\n",
        "train_dir = '/content/Images/training_XML'  # Destination path for training data\n",
        "val_dir = '/content/Images/validation_XML'  # Destination path for validation data\n",
        "\n",
        "os.makedirs(train_dir, exist_ok=True)\n",
        "os.makedirs(val_dir, exist_ok=True)\n",
        "\n",
        "def extract_label(filename):\n",
        "    # Example label extraction, adjust if your labels are structured differently\n",
        "    # Assumes the label is part of the filename before an underscore or other delimiter\n",
        "    return filename.split('_')[0]\n",
        "\n",
        "def normalize_and_save(file_path, save_path):\n",
        "    # Open the image file\n",
        "    img = Image.open(file_path)\n",
        "    img = img.convert('RGB')  # Convert to RGB if not already\n",
        "\n",
        "    # Normalize pixel values to [0, 1]\n",
        "    np_img = np.array(img) / 255.0\n",
        "\n",
        "    # Save the normalized image\n",
        "    norm_img = Image.fromarray((np_img * 255).astype('uint8'))\n",
        "    norm_img.save(save_path)\n",
        "\n",
        "# Collect all image files and filter those with a corresponding annotation file\n",
        "file_paths = [os.path.join(dataset_path, f) for f in os.listdir(dataset_path) if f.endswith('.png')]\n",
        "labels = [extract_label(f) for f in file_paths]\n",
        "\n",
        "# Ensure corresponding .txt files for annotations exist\n",
        "file_paths = [f for f in file_paths if os.path.exists(f\"{f[:-4]}.xml\")]\n",
        "labels = [labels[i] for i in range(len(file_paths)) if os.path.exists(f\"{file_paths[i][:-4]}.xml\")]\n",
        "\n",
        "# Perform Stratified Split:\n",
        "train_files, val_files, train_labels, val_labels = train_test_split(\n",
        "    file_paths, labels, test_size=0.2, stratify=labels, random_state=42)\n",
        "\n",
        "# Copy and Normalize Files to Their Directories:\n",
        "def copy_and_prepare_files(files, target_dir):\n",
        "    for file_path in files:\n",
        "        base_name = os.path.basename(file_path)\n",
        "        image_target_path = os.path.join(target_dir, base_name)\n",
        "        label_target_path = os.path.join(target_dir, base_name.replace('.png', '.xml'))\n",
        "\n",
        "        # Copy and normalize image\n",
        "        normalize_and_save(file_path, image_target_path)\n",
        "\n",
        "        # Copy label\n",
        "        shutil.copy(file_path.replace('.png', '.xml'), label_target_path)\n",
        "\n",
        "# Copy training and validation files\n",
        "copy_and_prepare_files(train_files, train_dir)\n",
        "copy_and_prepare_files(val_files, val_dir)\n",
        "\n",
        "# Output Summary:\n",
        "print(\"Training and validation datasets prepared.\")\n",
        "print(f\"Training images and labels copied to: {train_dir}\")\n",
        "print(f\"Validation images and labels copied to: {val_dir}\")"
      ],
      "metadata": {
        "colab": {
          "base_uri": "https://localhost:8080/"
        },
        "id": "oReBE8zs34NI",
        "outputId": "de9c1790-7482-4e97-dc8b-ac7b010012ba"
      },
      "execution_count": 9,
      "outputs": [
        {
          "output_type": "stream",
          "name": "stdout",
          "text": [
            "Training and validation datasets prepared.\n",
            "Training images and labels copied to: /content/Images/training_XML\n",
            "Validation images and labels copied to: /content/Images/validation_XML\n"
          ]
        }
      ]
    },
    {
      "cell_type": "code",
      "source": [
        "# COUNT NUMBER OF FILES:\n",
        "\n",
        "import os\n",
        "\n",
        "def count_files_in_folder(folder_path):\n",
        "    \"\"\"\n",
        "    Count all items, number of image files, and number of text files in the specified folder.\n",
        "\n",
        "    Parameters:\n",
        "    - folder_path: str. Path to the folder whose contents are to be counted.\n",
        "    \"\"\"\n",
        "    total_items = 0\n",
        "    image_count = 0\n",
        "    text_file_count = 0\n",
        "    image_extensions = ['.jpg', '.jpeg', '.png']\n",
        "    text_extensions = ['.txt', '.xml']\n",
        "\n",
        "    try:\n",
        "        # List all items in the folder\n",
        "        items = os.listdir(folder_path)\n",
        "        total_items = len(items)\n",
        "\n",
        "        # Count images and text files\n",
        "        for item in items:\n",
        "            _, ext = os.path.splitext(item)\n",
        "            if ext.lower() in image_extensions:\n",
        "                image_count += 1\n",
        "            elif ext.lower() in text_extensions:\n",
        "                text_file_count += 1\n",
        "\n",
        "        print(f\"Total number of items in '{folder_path}': {total_items}\")\n",
        "        print(f\"Number of image files: {image_count}\")\n",
        "        print(f\"Number of text files: {text_file_count}\")\n",
        "\n",
        "    except FileNotFoundError:\n",
        "        print(f\"The folder '{folder_path}' does not exist.\")\n",
        "    except PermissionError:\n",
        "        print(f\"Permission denied to access the folder '{folder_path}'.\")\n",
        "\n",
        "# Example usage\n",
        "folder_path = '/content/Images/training'  # Change this to your specific folder path\n",
        "count_files_in_folder(folder_path)"
      ],
      "metadata": {
        "colab": {
          "base_uri": "https://localhost:8080/"
        },
        "id": "vbhZ7qBYxhXd",
        "outputId": "be65d208-c102-4bcc-d65a-511b0c176e03"
      },
      "execution_count": 10,
      "outputs": [
        {
          "output_type": "stream",
          "name": "stdout",
          "text": [
            "Total number of items in '/content/Images/training': 80000\n",
            "Number of image files: 40000\n",
            "Number of text files: 40000\n"
          ]
        }
      ]
    },
    {
      "cell_type": "markdown",
      "source": [
        "### **CHECK FOR YOLO:**"
      ],
      "metadata": {
        "id": "LrhLbHDF4SDu"
      }
    },
    {
      "cell_type": "code",
      "source": [
        "# CHECK FOR PAIRS AND OVERLAP:\n",
        "\n",
        "import os\n",
        "\n",
        "def check_pairs_and_overlap(train_dir, val_dir):\n",
        "    \"\"\"\n",
        "    Checks each folder to ensure every image has a corresponding annotation file and checks for overlapping images between folders.\n",
        "\n",
        "    Args:\n",
        "        train_dir (str): Directory containing training images and annotations.\n",
        "        val_dir (str): Directory containing validation images and annotations.\n",
        "    \"\"\"\n",
        "    # Gather files from training and validation directories\n",
        "    train_files = os.listdir(train_dir)\n",
        "    val_files = os.listdir(val_dir)\n",
        "\n",
        "    # Filter image files and their corresponding annotation files\n",
        "    train_images = {f for f in train_files if f.endswith(('.png', '.jpg', '.jpeg'))}\n",
        "    val_images = {f for f in val_files if f.endswith(('.png', '.jpg', '.jpeg'))}\n",
        "\n",
        "    # Check for missing pairs in training and validation directories\n",
        "    missing_train_pairs = [img for img in train_images if os.path.splitext(img)[0] + '.txt' not in train_files]\n",
        "    missing_val_pairs = [img for img in val_images if os.path.splitext(img)[0] + '.txt' not in val_files]\n",
        "\n",
        "    # Check for overlap\n",
        "    overlap = train_images.intersection(val_images)\n",
        "\n",
        "    # Report results\n",
        "    if missing_train_pairs:\n",
        "        print(\"Training directory missing annotation files for the following images:\")\n",
        "        for missing in missing_train_pairs:\n",
        "            print(missing)\n",
        "    else:\n",
        "        print(\"All training images have corresponding annotation files.\")\n",
        "\n",
        "    if missing_val_pairs:\n",
        "        print(\"Validation directory missing annotation files for the following images:\")\n",
        "        for missing in missing_val_pairs:\n",
        "            print(missing)\n",
        "    else:\n",
        "        print(\"All validation images have corresponding annotation files.\")\n",
        "\n",
        "    if overlap:\n",
        "        print(\"Overlap found in training and validation datasets for the following images:\")\n",
        "        for img in overlap:\n",
        "            print(img)\n",
        "    else:\n",
        "        print(\"No overlap between training and validation datasets.\")\n",
        "\n",
        "# Specify the training and validation directory paths\n",
        "train_dir_path = '/content/Images/training'  # Update this path\n",
        "val_dir_path = '/content/Images/validation'  # Update this path\n",
        "check_pairs_and_overlap(train_dir_path, val_dir_path)"
      ],
      "metadata": {
        "colab": {
          "base_uri": "https://localhost:8080/"
        },
        "id": "h-nN0hjt4lY2",
        "outputId": "21c15685-0bad-4314-854e-7e272d1da876"
      },
      "execution_count": 11,
      "outputs": [
        {
          "output_type": "stream",
          "name": "stdout",
          "text": [
            "All training images have corresponding annotation files.\n",
            "All validation images have corresponding annotation files.\n",
            "No overlap between training and validation datasets.\n"
          ]
        }
      ]
    },
    {
      "cell_type": "code",
      "source": [
        "# CHECK FOR COMPONENT DISTRIBUTION IN THE DATASET:\n",
        "\n",
        "import os\n",
        "import matplotlib.pyplot as plt\n",
        "\n",
        "def extract_label(filename):\n",
        "    # Extracts the label from the filename. Modify this based on your actual label structure.\n",
        "    return filename.split('_')[0]\n",
        "\n",
        "# Paths to the training and validation directories\n",
        "train_dir = '/content/Images/training'\n",
        "val_dir = '/content/Images/validation'\n",
        "\n",
        "# Function to count labels in a directory\n",
        "def count_labels_in_directory(directory):\n",
        "    labels = [extract_label(f) for f in os.listdir(directory) if f.endswith('.png')]\n",
        "    label_counts = {}\n",
        "    for label in labels:\n",
        "        if label in label_counts:\n",
        "            label_counts[label] += 1\n",
        "        else:\n",
        "            label_counts[label] = 1\n",
        "    return label_counts\n",
        "\n",
        "# Count labels in each set\n",
        "train_counts = count_labels_in_directory(train_dir)\n",
        "val_counts = count_labels_in_directory(val_dir)\n",
        "\n",
        "# Create plot\n",
        "fig, (ax1, ax2) = plt.subplots(1, 2, figsize=(12, 6))\n",
        "ax1.bar(train_counts.keys(), train_counts.values(), color='blue')\n",
        "ax1.set_title('Training Set Label Distribution')\n",
        "ax1.set_xlabel('Labels')\n",
        "ax1.set_ylabel('Count')\n",
        "\n",
        "ax2.bar(val_counts.keys(), val_counts.values(), color='green')\n",
        "ax2.set_title('Validation Set Label Distribution')\n",
        "ax2.set_xlabel('Labels')\n",
        "ax2.set_ylabel('Count')\n",
        "\n",
        "# Improve layout and display plot\n",
        "plt.tight_layout()\n",
        "plt.show()"
      ],
      "metadata": {
        "colab": {
          "base_uri": "https://localhost:8080/",
          "height": 607
        },
        "id": "F_6qY7sn4cEs",
        "outputId": "cc1afe34-d122-4306-998c-088be3196ace"
      },
      "execution_count": 12,
      "outputs": [
        {
          "output_type": "display_data",
          "data": {
            "text/plain": [
              "<Figure size 1200x600 with 2 Axes>"
            ],
            "image/png": "[encoded data removed]"
          },
          "metadata": {}
        }
      ]
    },
    {
      "cell_type": "markdown",
      "source": [
        "### **CHECK FOR XML:**"
      ],
      "metadata": {
        "id": "qFKfJ7ue4Oxy"
      }
    },
    {
      "cell_type": "code",
      "source": [
        "# CHECK FOR PAIRS AND OVERLAP:\n",
        "\n",
        "import os\n",
        "\n",
        "def check_pairs_and_overlap(train_dir, val_dir):\n",
        "    \"\"\"\n",
        "    Checks each folder to ensure every image has a corresponding annotation file and checks for overlapping images between folders.\n",
        "\n",
        "    Args:\n",
        "        train_dir (str): Directory containing training images and annotations.\n",
        "        val_dir (str): Directory containing validation images and annotations.\n",
        "    \"\"\"\n",
        "    # Gather files from training and validation directories\n",
        "    train_files = os.listdir(train_dir)\n",
        "    val_files = os.listdir(val_dir)\n",
        "\n",
        "    # Filter image files and their corresponding annotation files\n",
        "    train_images = {f for f in train_files if f.endswith(('.png', '.jpg', '.jpeg'))}\n",
        "    val_images = {f for f in val_files if f.endswith(('.png', '.jpg', '.jpeg'))}\n",
        "\n",
        "    # Check for missing pairs in training and validation directories\n",
        "    missing_train_pairs = [img for img in train_images if os.path.splitext(img)[0] + '.xml' not in train_files]\n",
        "    missing_val_pairs = [img for img in val_images if os.path.splitext(img)[0] + '.xml' not in val_files]\n",
        "\n",
        "    # Check for overlap\n",
        "    overlap = train_images.intersection(val_images)\n",
        "\n",
        "    # Report results\n",
        "    if missing_train_pairs:\n",
        "        print(\"Training directory missing annotation files for the following images:\")\n",
        "        for missing in missing_train_pairs:\n",
        "            print(missing)\n",
        "    else:\n",
        "        print(\"All training images have corresponding annotation files.\")\n",
        "\n",
        "    if missing_val_pairs:\n",
        "        print(\"Validation directory missing annotation files for the following images:\")\n",
        "        for missing in missing_val_pairs:\n",
        "            print(missing)\n",
        "    else:\n",
        "        print(\"All validation images have corresponding annotation files.\")\n",
        "\n",
        "    if overlap:\n",
        "        print(\"Overlap found in training and validation datasets for the following images:\")\n",
        "        for img in overlap:\n",
        "            print(img)\n",
        "    else:\n",
        "        print(\"No overlap between training and validation datasets.\")\n",
        "\n",
        "# Specify the training and validation directory paths\n",
        "train_dir_path = '/content/Images/training_XML'  # Update this path\n",
        "val_dir_path = '/content/Images/validation_XML'  # Update this path\n",
        "check_pairs_and_overlap(train_dir_path, val_dir_path)"
      ],
      "metadata": {
        "colab": {
          "base_uri": "https://localhost:8080/"
        },
        "id": "63RPWmqr4FQC",
        "outputId": "445c9bb1-618f-4a04-b0f8-c834663f4077"
      },
      "execution_count": 13,
      "outputs": [
        {
          "output_type": "stream",
          "name": "stdout",
          "text": [
            "All training images have corresponding annotation files.\n",
            "All validation images have corresponding annotation files.\n",
            "No overlap between training and validation datasets.\n"
          ]
        }
      ]
    },
    {
      "cell_type": "code",
      "source": [
        "# CHECK FOR COMPONENT DISTRIBUTION IN THE DATASET:\n",
        "\n",
        "import os\n",
        "import matplotlib.pyplot as plt\n",
        "\n",
        "def extract_label(filename):\n",
        "    # Extracts the label from the filename. Modify this based on your actual label structure.\n",
        "    return filename.split('_')[0]\n",
        "\n",
        "# Paths to the training and validation directories\n",
        "train_dir = '/content/Images/training_XML'\n",
        "val_dir = '/content/Images/validation_XML'\n",
        "\n",
        "# Function to count labels in a directory\n",
        "def count_labels_in_directory(directory):\n",
        "    labels = [extract_label(f) for f in os.listdir(directory) if f.endswith('.png')]\n",
        "    label_counts = {}\n",
        "    for label in labels:\n",
        "        if label in label_counts:\n",
        "            label_counts[label] += 1\n",
        "        else:\n",
        "            label_counts[label] = 1\n",
        "    return label_counts\n",
        "\n",
        "# Count labels in each set\n",
        "train_counts = count_labels_in_directory(train_dir)\n",
        "val_counts = count_labels_in_directory(val_dir)\n",
        "\n",
        "# Create plot\n",
        "fig, (ax1, ax2) = plt.subplots(1, 2, figsize=(12, 6))\n",
        "ax1.bar(train_counts.keys(), train_counts.values(), color='blue')\n",
        "ax1.set_title('Training Set Label Distribution')\n",
        "ax1.set_xlabel('Labels')\n",
        "ax1.set_ylabel('Count')\n",
        "\n",
        "ax2.bar(val_counts.keys(), val_counts.values(), color='green')\n",
        "ax2.set_title('Validation Set Label Distribution')\n",
        "ax2.set_xlabel('Labels')\n",
        "ax2.set_ylabel('Count')\n",
        "\n",
        "# Improve layout and display plot\n",
        "plt.tight_layout()\n",
        "plt.show()"
      ],
      "metadata": {
        "colab": {
          "base_uri": "https://localhost:8080/",
          "height": 607
        },
        "id": "ipGeQhmqxmyv",
        "outputId": "9a5d1d8d-2bf9-4cfe-acb7-26f005fbbab8"
      },
      "execution_count": 14,
      "outputs": [
        {
          "output_type": "display_data",
          "data": {
            "text/plain": [
              "<Figure size 1200x600 with 2 Axes>"
            ],
            "image/png": "[encoded data removed]"
          },
          "metadata": {}
        }
      ]
    },
    {
      "cell_type": "markdown",
      "source": [
        "# **UPLOAD DATASET:**"
      ],
      "metadata": {
        "id": "gyKrFv0PxrdE"
      }
    },
    {
      "cell_type": "markdown",
      "source": [
        "### **YOLO:**"
      ],
      "metadata": {
        "id": "gL4_YK7x4wsz"
      }
    },
    {
      "cell_type": "code",
      "source": [
        "import os\n",
        "import shutil\n",
        "from google.colab import files\n",
        "\n",
        "def zip_and_upload_folder(folder_path, drive_path):\n",
        "    # Zip the folder locally\n",
        "    shutil.make_archive(folder_path, 'zip', folder_path)\n",
        "\n",
        "    # Move the zip to Google Drive\n",
        "    shutil.move(f\"{folder_path}.zip\", os.path.join(drive_path, f\"{os.path.basename(folder_path)}.zip\"))\n",
        "\n",
        "# Folder paths on your local Colab\n",
        "folder1 = '/content/Images/training'\n",
        "folder2 = '/content/Images/validation'\n",
        "\n",
        "# Google Drive path\n",
        "drive_folder = '/content/gdrive/My Drive/Colab Notebooks/Data/MEDIUM COMPLEXITY/YOLO DATASET'  # Adjust the path as needed\n",
        "\n",
        "# Zip and upload folders\n",
        "zip_and_upload_folder(folder1, drive_folder)\n",
        "zip_and_upload_folder(folder2, drive_folder)"
      ],
      "metadata": {
        "id": "RRi6KqSqxwDr"
      },
      "execution_count": 15,
      "outputs": []
    },
    {
      "cell_type": "markdown",
      "source": [
        "### **XML:**"
      ],
      "metadata": {
        "id": "AM8nS9hP4z6V"
      }
    },
    {
      "cell_type": "code",
      "source": [
        "import os\n",
        "import shutil\n",
        "from google.colab import files\n",
        "\n",
        "def zip_and_upload_folder(folder_path, drive_path):\n",
        "    # Zip the folder locally\n",
        "    shutil.make_archive(folder_path, 'zip', folder_path)\n",
        "\n",
        "    # Move the zip to Google Drive\n",
        "    shutil.move(f\"{folder_path}.zip\", os.path.join(drive_path, f\"{os.path.basename(folder_path)}.zip\"))\n",
        "\n",
        "# Folder paths on your local Colab\n",
        "folder1 = '/content/Images/training_XML'\n",
        "folder2 = '/content/Images/validation_XML'\n",
        "\n",
        "# Google Drive path\n",
        "drive_folder = '/content/gdrive/My Drive/Colab Notebooks/Data/MEDIUM COMPLEXITY/XML DATASET'  # Adjust the path as needed\n",
        "\n",
        "# Zip and upload folders\n",
        "zip_and_upload_folder(folder1, drive_folder)\n",
        "zip_and_upload_folder(folder2, drive_folder)"
      ],
      "metadata": {
        "id": "7I53RAN-43mV"
      },
      "execution_count": 16,
      "outputs": []
    }
  ]
}